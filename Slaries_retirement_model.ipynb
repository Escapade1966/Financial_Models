{
 "cells": [
  {
   "cell_type": "markdown",
   "metadata": {},
   "source": [
    "## Setup\n",
    "\n",
    "Setup for the later calculations are here. The necessary packages are imported."
   ]
  },
  {
   "cell_type": "code",
   "execution_count": 37,
   "metadata": {},
   "outputs": [],
   "source": [
    "from dataclasses import dataclass\n",
    "import numpy_financial as npf"
   ]
  },
  {
   "cell_type": "markdown",
   "metadata": {},
   "source": [
    "## Inputs \n",
    "\n",
    "All of the inputs for the model are defined here. A class is constructed to manage the data, and an instance of the class containing the default inputs is created."
   ]
  },
  {
   "cell_type": "code",
   "execution_count": 38,
   "metadata": {},
   "outputs": [
    {
     "data": {
      "text/plain": [
       "ModelInputs(starting_salary=60000, promos_every_n_years=5, cost_of_living_raise=0.02, promo_raise=0.15, savings_rate=0.25, interest_rate=0.05, years_in_retirement=20, cash_spend_during_retirement=40000)"
      ]
     },
     "execution_count": 38,
     "metadata": {},
     "output_type": "execute_result"
    }
   ],
   "source": [
    "@dataclass \n",
    "class ModelInputs:\n",
    "    starting_salary: int = 60000\n",
    "    promos_every_n_years: int = 5\n",
    "    cost_of_living_raise: float = 0.02\n",
    "    promo_raise: float = 0.15\n",
    "    savings_rate: float = 0.25\n",
    "    interest_rate: float = 0.05\n",
    "    years_in_retirement : int = 20\n",
    "    cash_spend_during_retirement: float = 40000\n",
    "\n",
    "\n",
    "model_data = ModelInputs()\n",
    "model_data"
   ]
  },
  {
   "cell_type": "markdown",
   "metadata": {},
   "source": [
    "## Slaries\n",
    "\n",
    "Here the salary for each year is calculated. We assume that the salary grows at a constant rate each year for cost of living raises, and then also every number of years, the salary increases by a further percentage due to a promotion or switching jobs. Based on this assumption, the salary would evolve over time with the following equation:\n",
    "\n",
    "$$s_t = s_0(1+r_{cl})^n(1+r_p)^p$$\n",
    "\n",
    "Where:\n",
    "- $s_t$: Salary at year $t$\n",
    "- $s_0$: Starting salary (year0)\n",
    "- $r_{cl}$: Annual cost of living raise\n",
    "- $r_p$: Promotion raise\n",
    "- $p$: Number of promotions\n",
    "\n",
    "And in python format:\n"
   ]
  },
  {
   "cell_type": "code",
   "execution_count": 39,
   "metadata": {},
   "outputs": [],
   "source": [
    "def salary_at_year(data: ModelInputs,year):\n",
    "    \"\"\"\n",
    "    Gets the salary at a given year from the start of the model based on cost of living raises and regular promotions.\n",
    "    \"\"\"\n",
    "    # Every n years we have a promotion, so dividing the years and taking out the decimals gets the number of promotions\n",
    "    num_promos =  int(year/data.promos_every_n_years)\n",
    "    # This is the formula above implemented in Python\n",
    "    salary_t = data.starting_salary*(1+data.cost_of_living_raise)**year*(1+data.promo_raise)**num_promos\n",
    "    return salary_t"
   ]
  },
  {
   "cell_type": "markdown",
   "metadata": {},
   "source": [
    "That function will get the salary at a given year, so to get all the salaries we just run it on each year. But we will not know how many years to run as we should run it until the individual is able to retire. So we are just showing the first few salaries for now and will later use this function in the [Wealths](#Wealths) section of the model."
   ]
  },
  {
   "cell_type": "code",
   "execution_count": 32,
   "metadata": {},
   "outputs": [
    {
     "name": "stdout",
     "output_type": "stream",
     "text": [
      "The salary at yea 1 is $61200.0.\n",
      "The salary at yea 2 is $62424.0.\n",
      "The salary at yea 3 is $63672.48000000001.\n",
      "The salary at yea 4 is $64945.929599999996.\n",
      "The salary at yea 5 is $76181.5754208.\n",
      "The salary at yea 6 is $77705.206929216.\n"
     ]
    }
   ],
   "source": [
    "for i  in range(6):\n",
    "    year = i+1\n",
    "    salary = salary_at_year(model_data,year)\n",
    "    print(f'The salary at yea {year} is ${salary}.')"
   ]
  },
  {
   "cell_type": "markdown",
   "metadata": {},
   "source": [
    "## Wealths\n",
    "\n",
    "The wealths portion of the model is concerned with applying the savings rate to the earned salary to calculate the cash saved, accumulating the cash saved over time, and applying the investment rate to the accumulated wealth.\n",
    "\n",
    "To calculate cash saved, it is :\n",
    "$$ c_t = s_t * r_s $$\n",
    "Where :\n",
    "- $c_t$: Cash saved during year t\n",
    "- $r_s$:Savings rate\n"
   ]
  },
  {
   "cell_type": "code",
   "execution_count": 33,
   "metadata": {},
   "outputs": [],
   "source": [
    "def cash_saved_during_year(data:ModelInputs, year):\n",
    "    \"\"\"\n",
    "    Calculated the cash saved within a given year, by first calculating the salary at that year then applying the \n",
    "    savings rate.\n",
    "    \"\"\"\n",
    "    salary = salary_at_year(data, year)\n",
    "    cash_saved = salary * data.savings_rate\n",
    "    return cash_saved"
   ]
  },
  {
   "cell_type": "markdown",
   "metadata": {},
   "source": [
    "To get the wealth at each year, it is just applying the investment return to last year's wealth, then adding this year's cash saved:\n",
    "\n",
    "$$w_t=w_{t-1}*(1+r_i)+c_t$$\n",
    "Where:\n",
    "- $w_t$:Wealth at year t\n",
    "- $r_i$:Investment rate"
   ]
  },
  {
   "cell_type": "code",
   "execution_count": 34,
   "metadata": {},
   "outputs": [],
   "source": [
    "def wealth_at_year(data:ModelInputs,year,prior_wealth):\n",
    "    \"\"\"\n",
    "    Calculate the accumulated wealth for a given year, based on previous wealth, the investment rate,\n",
    "    and cash saved during the year.\n",
    "    \"\"\"\n",
    "    cash_saved = cash_saved_during_year(data,year)\n",
    "    wealth = prior_wealth*(1+ data.interest_rate) +cash_saved\n",
    "    return wealth"
   ]
  },
  {
   "cell_type": "markdown",
   "metadata": {},
   "source": [
    "Again, just like in the [Salaries](#Salaries) section, we can now get the output for each year, but we don't know ultimately how many years we will have to run it. That will be determined in the [Retirement](#Retirement) section. So for now, just show the first few years of wealth accumulation:"
   ]
  },
  {
   "cell_type": "code",
   "execution_count": 35,
   "metadata": {},
   "outputs": [
    {
     "name": "stdout",
     "output_type": "stream",
     "text": [
      "The wealth at year 1 is 15300.0.\n",
      "The wealth at year 2 is 15606.0.\n",
      "The wealth at year 3 is 15918.120000000003.\n",
      "The wealth at year 4 is 16236.482399999999.\n",
      "The wealth at year 5 is 19045.3938552.\n",
      "The wealth at year 6 is 19426.301732304.\n"
     ]
    }
   ],
   "source": [
    "prior_wealth =0 #starting with no cash saved\n",
    "for i in range(6):\n",
    "      year =i+1\n",
    "      wealth = wealth_at_year(model_data,year,prior_wealth)\n",
    "      print(f'The wealth at year {year} is {wealth}.')\n",
    "             "
   ]
  },
  {
   "cell_type": "markdown",
   "metadata": {},
   "source": [
    "## Retirement\n",
    "\n",
    "This section of the model puts everything together to produce the final output of years to retirement. It uses the logic to get the wealths at each year, which in turn uses the logic to the get salary at each year. The wealth at each year is tracked over time until it hits the desired cash. Once the wealth hits the desired cash, the individual is able to retire so that year is returned as the years to retirement."
   ]
  },
  {
   "cell_type": "markdown",
   "metadata": {},
   "source": [
    "### Calculate Desired Cash"
   ]
  },
  {
   "cell_type": "code",
   "execution_count": 47,
   "metadata": {},
   "outputs": [
    {
     "name": "stdout",
     "output_type": "stream",
     "text": [
      "Martha need 498488.41amount of monney for retirement.\n"
     ]
    }
   ],
   "source": [
    "def get_desired_cash(data:ModelInputs):\n",
    "    return npf.pv(data.interest_rate,data.years_in_retirement,-data.cash_spend_during_retirement)\n",
    "print(f\"Martha need {get_desired_cash(model_data):.2f}amount of monney for retirement.\")"
   ]
  },
  {
   "cell_type": "markdown",
   "metadata": {},
   "source": [
    "### Calculate Years to Retirement"
   ]
  },
  {
   "cell_type": "code",
   "execution_count": 48,
   "metadata": {},
   "outputs": [],
   "source": [
    "def years_to_retirement(data:ModelInputs):\n",
    "\n",
    "    #starting with no cash saved\n",
    "    prior_wealth = 0\n",
    "    wealth =0\n",
    "\n",
    "    year=0 #will become 1 on first loop\n",
    "    desired_cash = get_desired_cash(data)\n",
    "    print('Wealth over time:') #\\n makes a blank line in the output.\n",
    "    while wealth < desired_cash:\n",
    "        year +=1\n",
    "        wealth = wealth_at_year(model_data,year,prior_wealth)\n",
    "        print(f\"The wealth at year {year} is ${wealth:.2f}.\")  #:.2f   可以保留两位数\n",
    "        \n",
    "        # Set next year's prior wealth to this year's wealth\n",
    "        prior_wealth = wealth\n",
    "    \n",
    "    # Now we have exited the while loop, so wealth must be >= desired_cash. Whatever last year was set\n",
    "    # is the years to retirement.\n",
    "    print(f'\\nRetirement:\\nIt will take {year} years to retire.')  # \\n makes a blank line in the output.\n",
    "    return year"
   ]
  },
  {
   "cell_type": "markdown",
   "metadata": {},
   "source": [
    "With the default inputs:"
   ]
  },
  {
   "cell_type": "code",
   "execution_count": 49,
   "metadata": {},
   "outputs": [
    {
     "name": "stdout",
     "output_type": "stream",
     "text": [
      "Wealth over time:\n",
      "The wealth at year 1 is $15300.00.\n",
      "The wealth at year 2 is $31671.00.\n",
      "The wealth at year 3 is $49172.67.\n",
      "The wealth at year 4 is $67867.79.\n",
      "The wealth at year 5 is $90306.57.\n",
      "The wealth at year 6 is $114248.20.\n",
      "The wealth at year 7 is $139775.44.\n",
      "The wealth at year 8 is $166975.33.\n",
      "The wealth at year 9 is $195939.45.\n",
      "The wealth at year 10 is $229918.22.\n",
      "The wealth at year 11 is $266079.57.\n",
      "The wealth at year 12 is $304542.29.\n",
      "The wealth at year 13 is $345431.33.\n",
      "The wealth at year 14 is $388878.06.\n",
      "The wealth at year 15 is $439025.42.\n",
      "The wealth at year 16 is $492294.23.\n",
      "The wealth at year 17 is $548852.82.\n",
      "\n",
      "Retirement:\n",
      "It will take 17 years to retire.\n"
     ]
    }
   ],
   "source": [
    "years = years_to_retirement(model_data)"
   ]
  }
 ],
 "metadata": {
  "kernelspec": {
   "display_name": "base",
   "language": "python",
   "name": "python3"
  },
  "language_info": {
   "codemirror_mode": {
    "name": "ipython",
    "version": 3
   },
   "file_extension": ".py",
   "mimetype": "text/x-python",
   "name": "python",
   "nbconvert_exporter": "python",
   "pygments_lexer": "ipython3",
   "version": "3.11.1"
  }
 },
 "nbformat": 4,
 "nbformat_minor": 2
}
